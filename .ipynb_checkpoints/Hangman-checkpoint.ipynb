{
 "cells": [
  {
   "cell_type": "code",
   "execution_count": 3,
   "id": "a3492c8b-9a66-4d1f-b8de-2a7380ddc0ac",
   "metadata": {},
   "outputs": [
    {
     "name": "stdout",
     "output_type": "stream",
     "text": [
      "______\n"
     ]
    },
    {
     "name": "stdin",
     "output_type": "stream",
     "text": [
      "Enter your guess:  e\n"
     ]
    },
    {
     "name": "stdout",
     "output_type": "stream",
     "text": [
      "Wrong guess you have 5 left\n",
      "______\n"
     ]
    },
    {
     "name": "stdin",
     "output_type": "stream",
     "text": [
      "Enter your guess:  r\n"
     ]
    },
    {
     "name": "stdout",
     "output_type": "stream",
     "text": [
      "Wrong guess you have 4 left\n",
      "______\n"
     ]
    },
    {
     "name": "stdin",
     "output_type": "stream",
     "text": [
      "Enter your guess:  a\n"
     ]
    },
    {
     "name": "stdout",
     "output_type": "stream",
     "text": [
      "Wrong guess you have 3 left\n",
      "______\n"
     ]
    },
    {
     "name": "stdin",
     "output_type": "stream",
     "text": [
      "Enter your guess:  i\n"
     ]
    },
    {
     "name": "stdout",
     "output_type": "stream",
     "text": [
      "correct guess you still have 3 left\n",
      "_i____\n"
     ]
    },
    {
     "name": "stdin",
     "output_type": "stream",
     "text": [
      "Enter your guess:  o\n"
     ]
    },
    {
     "name": "stdout",
     "output_type": "stream",
     "text": [
      "correct guess you still have 3 left\n",
      "_i__o_\n"
     ]
    },
    {
     "name": "stdin",
     "output_type": "stream",
     "text": [
      "Enter your guess:  w\n"
     ]
    },
    {
     "name": "stdout",
     "output_type": "stream",
     "text": [
      "correct guess you still have 3 left\n",
      "wi__ow\n"
     ]
    },
    {
     "name": "stdin",
     "output_type": "stream",
     "text": [
      "Enter your guess:  w\n"
     ]
    },
    {
     "name": "stdout",
     "output_type": "stream",
     "text": [
      "You have already guessed it!\n",
      " you have 3 lives left\n",
      "wi__ow\n"
     ]
    },
    {
     "name": "stdin",
     "output_type": "stream",
     "text": [
      "Enter your guess:  d\n"
     ]
    },
    {
     "name": "stdout",
     "output_type": "stream",
     "text": [
      "correct guess you still have 3 left\n",
      "wi_dow\n"
     ]
    },
    {
     "name": "stdin",
     "output_type": "stream",
     "text": [
      "Enter your guess:  n\n"
     ]
    },
    {
     "name": "stdout",
     "output_type": "stream",
     "text": [
      "You Guessed the correct Word !\n",
      "You won\n"
     ]
    }
   ],
   "source": [
    "import random\n",
    "\n",
    "word_list = [\"apple\", \"book\", \"desk\", \"pen\", \"cat\", \"dog\", \"tree\", \"house\", \"car\", \"phone\",\n",
    "             \"computer\", \"laptop\", \"keyboard\", \"mouse\", \"chair\", \"table\", \"door\", \"window\", \"wall\", \"floor\"]\n",
    "\n",
    "chosen_word = random.choice(word_list)\n",
    "\n",
    "for i in range(len(chosen_word)):\n",
    "    print(\"_\",end=\"\")\n",
    "\n",
    "print(\"\")\n",
    "\n",
    "lives = 6\n",
    "\n",
    "guessed = False\n",
    "\n",
    "ok = False\n",
    "\n",
    "chosen_word_list =  []\n",
    "\n",
    "while(not guessed and lives!=0):\n",
    "    display = \"\"\n",
    "\n",
    "    guess = input(\"Enter your guess: \")\n",
    "\n",
    "    if(guess in chosen_word_list):\n",
    "        ok = True\n",
    "        print(\"You have already guessed it!\")\n",
    "        print(f\" you have {lives} lives left\")\n",
    "\n",
    "    for i in chosen_word:\n",
    "        if (i == guess):\n",
    "            display += i\n",
    "            chosen_word_list.append((i))\n",
    "        elif i  in chosen_word_list:\n",
    "            display += i\n",
    "        else:\n",
    "            display +=\"_\"\n",
    "\n",
    "    if(display == chosen_word):\n",
    "        guessed = True\n",
    "        print(\"You Guessed the correct Word !\")\n",
    "        print(\"You won\")\n",
    "        break\n",
    "        \n",
    "        \n",
    "    if(not ok):\n",
    "        if guess in chosen_word_list:\n",
    "            print(f\"correct guess you still have {lives} left\")\n",
    "        else:\n",
    "            lives-=1\n",
    "            print(f\"Wrong guess you have {lives} left\")\n",
    "\n",
    "    print(display)\n",
    "\n",
    "    if(lives == 0):\n",
    "        print(\"GAME OVER ---------------------------\")\n",
    "\n",
    "    ok = False"
   ]
  },
  {
   "cell_type": "code",
   "execution_count": null,
   "id": "d9aab281-42c0-4c57-abbd-fbb7da27114a",
   "metadata": {},
   "outputs": [],
   "source": [
    "\n",
    "        "
   ]
  },
  {
   "cell_type": "code",
   "execution_count": null,
   "id": "3c132d4e-09b0-4311-9510-74606fdffd7b",
   "metadata": {},
   "outputs": [],
   "source": []
  }
 ],
 "metadata": {
  "kernelspec": {
   "display_name": "Python 3 (ipykernel)",
   "language": "python",
   "name": "python3"
  },
  "language_info": {
   "codemirror_mode": {
    "name": "ipython",
    "version": 3
   },
   "file_extension": ".py",
   "mimetype": "text/x-python",
   "name": "python",
   "nbconvert_exporter": "python",
   "pygments_lexer": "ipython3",
   "version": "3.12.4"
  }
 },
 "nbformat": 4,
 "nbformat_minor": 5
}
