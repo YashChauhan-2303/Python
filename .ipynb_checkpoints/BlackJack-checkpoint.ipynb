{
 "cells": [
  {
   "cell_type": "code",
   "execution_count": 1,
   "id": "96716df7-1741-4b9d-baaa-8d5bb57c6e26",
   "metadata": {},
   "outputs": [
    {
     "name": "stdin",
     "output_type": "stream",
     "text": [
      "Do you want to play y/n:  y\n"
     ]
    },
    {
     "name": "stdout",
     "output_type": "stream",
     "text": [
      "Your Cards Are -----------\n",
      "10 7 \n",
      "Your sum is : 17\n",
      "Dealer Card is -------------\n",
      "10\n"
     ]
    },
    {
     "name": "stdin",
     "output_type": "stream",
     "text": [
      "Do you want another card? (y/n):  n\n"
     ]
    },
    {
     "name": "stdout",
     "output_type": "stream",
     "text": [
      "Dealer's cards: [10, 2, 7], sum: 19\n",
      "Dealer wins!\n",
      "\n",
      "------------------------------\n",
      "\n"
     ]
    },
    {
     "name": "stdin",
     "output_type": "stream",
     "text": [
      "Do you want to play y/n:  n\n"
     ]
    }
   ],
   "source": [
    "import random\n",
    "from operator import truediv\n",
    "play=True\n",
    "cards = [11, 2, 3, 4, 5, 6, 7, 8, 9, 10, 10, 10, 10]\n",
    "while(play):\n",
    "    user = []\n",
    "    dealer = []\n",
    "    sum_user,sum_dealer =0,0\n",
    "    p = input(\"Do you want to play y/n: \")\n",
    "    if(p.lower()=='n'):\n",
    "        won=True\n",
    "        play=False\n",
    "        break\n",
    "\n",
    "    dealer.append(random.choice(cards))\n",
    "    sum_dealer += dealer[0]\n",
    "\n",
    "    for i in range(2):\n",
    "        b=random.choice(cards)\n",
    "        sum_user +=b\n",
    "        user.append(b)\n",
    "\n",
    "    print(\"Your Cards Are -----------\")\n",
    "    for i in user:\n",
    "        print(f\"{i} \",end=\"\")\n",
    "\n",
    "    def adjust_for_ace(hand, total):\n",
    "        while total > 21 and 11 in hand:\n",
    "            hand[hand.index(11)] = 1\n",
    "            total -= 10\n",
    "        return total\n",
    "\n",
    "    sum_user = adjust_for_ace(user, sum_user)\n",
    "\n",
    "    print(f\"\\nYour sum is : {sum_user}\")\n",
    "    print(\"Dealer Card is -------------\")\n",
    "    print(f\"{dealer[0]}\")\n",
    "\n",
    "    while sum_user < 21:\n",
    "        another_card = input(\"Do you want another card? (y/n): \")\n",
    "        if another_card.lower() == \"y\":\n",
    "            card = random.choice(cards)\n",
    "            user.append(card)\n",
    "            sum_user += card\n",
    "            sum_user = adjust_for_ace(user, sum_user)\n",
    "            print(f\"Your cards: {user}, sum: {sum_user}\")\n",
    "        else:\n",
    "            break\n",
    "\n",
    "    if sum_user > 21:\n",
    "        print(\"You bust! Dealer wins.\")\n",
    "        continue\n",
    "\n",
    "    while sum_dealer < 17:\n",
    "        card = random.choice(cards)\n",
    "        dealer.append(card)\n",
    "        sum_dealer += card\n",
    "        sum_dealer = adjust_for_ace(dealer, sum_dealer)\n",
    "\n",
    "    print(f\"Dealer's cards: {dealer}, sum: {sum_dealer}\")\n",
    "\n",
    "    # Determine the winner\n",
    "    if sum_dealer > 21:\n",
    "        print(\"Dealer busts! You win!\")\n",
    "    elif sum_user > sum_dealer:\n",
    "        print(\"You win!\")\n",
    "    elif sum_user < sum_dealer:\n",
    "        print(\"Dealer wins!\")\n",
    "    else:\n",
    "        print(\"It's a draw!\")\n",
    "\n",
    "    print(\"\\n\" + \"-\" * 30 + \"\\n\")"
   ]
  },
  {
   "cell_type": "code",
   "execution_count": null,
   "id": "2f0b9957-ebc3-4425-89ed-10d4bc35cb44",
   "metadata": {},
   "outputs": [],
   "source": []
  }
 ],
 "metadata": {
  "kernelspec": {
   "display_name": "Python 3 (ipykernel)",
   "language": "python",
   "name": "python3"
  },
  "language_info": {
   "codemirror_mode": {
    "name": "ipython",
    "version": 3
   },
   "file_extension": ".py",
   "mimetype": "text/x-python",
   "name": "python",
   "nbconvert_exporter": "python",
   "pygments_lexer": "ipython3",
   "version": "3.12.4"
  }
 },
 "nbformat": 4,
 "nbformat_minor": 5
}
