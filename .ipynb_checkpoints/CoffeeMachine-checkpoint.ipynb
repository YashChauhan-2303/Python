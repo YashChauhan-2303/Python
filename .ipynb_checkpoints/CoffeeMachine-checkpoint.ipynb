{
 "cells": [
  {
   "cell_type": "code",
   "execution_count": null,
   "id": "d906d08a-ab9c-4ec7-ab0b-a599c73a5bfc",
   "metadata": {},
   "outputs": [
    {
     "name": "stdin",
     "output_type": "stream",
     "text": [
      "what would you like? (espresso/latte/cappuccino) :  report\n"
     ]
    },
    {
     "name": "stdout",
     "output_type": "stream",
     "text": [
      "Water: 300 \n",
      "Milk: 200\n",
      "Coffee: 100\n",
      "Money: 0\n"
     ]
    },
    {
     "name": "stdin",
     "output_type": "stream",
     "text": [
      "what would you like? (espresso/latte/cappuccino) :  latte\n"
     ]
    },
    {
     "name": "stdout",
     "output_type": "stream",
     "text": [
      "Please insert Coins: \n"
     ]
    },
    {
     "name": "stdin",
     "output_type": "stream",
     "text": [
      "How many quarters:  100\n",
      "How many dimes:  1\n",
      "How many nickles:  0\n",
      "How many pennies:  1\n"
     ]
    },
    {
     "name": "stdout",
     "output_type": "stream",
     "text": [
      "Here is your Change: 22.61\n",
      "Here is your coffee ☕ Enjoy!\n"
     ]
    },
    {
     "name": "stdin",
     "output_type": "stream",
     "text": [
      "what would you like? (espresso/latte/cappuccino) :  report\n"
     ]
    },
    {
     "name": "stdout",
     "output_type": "stream",
     "text": [
      "Water: 100 \n",
      "Milk: 50\n",
      "Coffee: 76\n",
      "Money: 2.5\n"
     ]
    }
   ],
   "source": [
    "MENU = {\n",
    "    \"espresso\": {\n",
    "        \"ingredients\": {\n",
    "            \"water\": 50,\n",
    "            \"coffee\": 18,\n",
    "        },\n",
    "        \"cost\": 1.5,\n",
    "    },\n",
    "    \"latte\": {\n",
    "        \"ingredients\": {\n",
    "            \"water\": 200,\n",
    "            \"milk\": 150,\n",
    "            \"coffee\": 24,\n",
    "        },\n",
    "        \"cost\": 2.5,\n",
    "    },\n",
    "    \"cappuccino\": {\n",
    "        \"ingredients\": {\n",
    "            \"water\": 250,\n",
    "            \"milk\": 100,\n",
    "            \"coffee\": 24,\n",
    "        },\n",
    "        \"cost\": 3.0,\n",
    "    }\n",
    "}\n",
    "\n",
    "resources = {\n",
    "    \"water\": 300,\n",
    "    \"milk\": 200,\n",
    "    \"coffee\": 100,\n",
    "}\n",
    "\n",
    "Money=0\n",
    "i='wrong'\n",
    "on_off = True\n",
    "while(on_off):\n",
    "    coffee = input(\"what would you like? (espresso/latte/cappuccino) : \")\n",
    "    if(coffee.lower() == 'off'):\n",
    "        on_off = False\n",
    "        break\n",
    "    if(coffee.lower() == \"espresso\"):\n",
    "        i='espresso'\n",
    "    elif(coffee.lower() == \"latte\"):\n",
    "        i='latte'\n",
    "    elif (coffee.lower() == \"cappuccino\"):\n",
    "        i = 'cappuccino'\n",
    "    if(coffee.lower() == \"report\"):\n",
    "        print(f\"Water: {resources['water']} \\nMilk: {resources['milk']}\\nCoffee: {resources['coffee']}\\nMoney: {Money}\")\n",
    "        continue\n",
    "    if(i in ['cappuccino','latte','espresso']):\n",
    "        for ingredient, amount in MENU[i][\"ingredients\"].items():\n",
    "            if resources[ingredient] < amount:\n",
    "                print(f\"Sorry, there is not enough {ingredient}.\")\n",
    "                break\n",
    "        else:\n",
    "            print(\"Please insert Coins: \")\n",
    "            quarters = int(input(\"How many quarters: \"))\n",
    "            dimes = int(input(\"How many dimes: \"))\n",
    "            nickles = int(input(\"How many nickles: \"))\n",
    "            pennies = int(input(\"How many pennies: \"))\n",
    "            total = quarters * 0.25 + dimes * 0.10 + nickles * 0.05 + pennies * 0.01\n",
    "            if (total >= MENU[i]['cost']):\n",
    "                if (total - MENU[i]['cost'] > 0):\n",
    "                    print(f\"Here is your Change: {round(total - MENU[i]['cost'],2)}\")\n",
    "                Money+=MENU[i]['cost']\n",
    "                print(f\"Here is your coffee ☕ Enjoy!\")\n",
    "                for ingredient, amount in MENU[i][\"ingredients\"].items():\n",
    "                    resources[ingredient] -= amount\n",
    "            else :\n",
    "                print(\"Less Money!!\")\n",
    "    else:\n",
    "        print(\"Wrong Input\")\n",
    "\n",
    "\n"
   ]
  },
  {
   "cell_type": "code",
   "execution_count": null,
   "id": "11bb0955-5e85-4c46-bfbb-0b64854c3748",
   "metadata": {},
   "outputs": [],
   "source": []
  },
  {
   "cell_type": "code",
   "execution_count": null,
   "id": "16ba2d8e-91ec-417e-8160-3efd56644391",
   "metadata": {},
   "outputs": [],
   "source": []
  }
 ],
 "metadata": {
  "kernelspec": {
   "display_name": "Python 3 (ipykernel)",
   "language": "python",
   "name": "python3"
  },
  "language_info": {
   "codemirror_mode": {
    "name": "ipython",
    "version": 3
   },
   "file_extension": ".py",
   "mimetype": "text/x-python",
   "name": "python",
   "nbconvert_exporter": "python",
   "pygments_lexer": "ipython3",
   "version": "3.12.4"
  }
 },
 "nbformat": 4,
 "nbformat_minor": 5
}
