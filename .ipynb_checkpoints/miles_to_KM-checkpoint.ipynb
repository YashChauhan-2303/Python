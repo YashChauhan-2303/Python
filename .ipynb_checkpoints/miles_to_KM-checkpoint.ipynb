{
 "cells": [
  {
   "cell_type": "code",
   "execution_count": 1,
   "id": "ec6ab516-3ce7-4559-a16d-771fd06abb71",
   "metadata": {},
   "outputs": [],
   "source": [
    "from tkinter import *\n",
    "\n",
    "def miles_to_km():\n",
    "    miles=float(miles_input.get())\n",
    "    km = miles * 1.609\n",
    "    km_label.config(text=f\"{km}\")\n",
    "\n",
    "window = Tk()\n",
    "window.title(\"Mile to KM converter\")\n",
    "window.config(padx=20,pady=20)\n",
    "\n",
    "miles_input = Entry(width=15)\n",
    "miles_input.grid(column=1,row=0)\n",
    "\n",
    "miles_label = Label(text=\"Miles\")\n",
    "miles_label.grid(column=2,row=0)\n",
    "\n",
    "is_equal = Label(text=\"is equal to\")\n",
    "is_equal.grid(column=0,row=1)\n",
    "\n",
    "km_label = Label(text=\"Km\")\n",
    "km_label.grid(column=1,row=1)\n",
    "\n",
    "calc_btn = Button(text=\"Calculate\",command=miles_to_km)\n",
    "calc_btn.grid(column=1,row=2)\n",
    "\n",
    "window.mainloop()"
   ]
  },
  {
   "cell_type": "code",
   "execution_count": null,
   "id": "53909d80-4585-4020-8b8e-2bd2f245f3d1",
   "metadata": {},
   "outputs": [],
   "source": []
  }
 ],
 "metadata": {
  "kernelspec": {
   "display_name": "Python 3 (ipykernel)",
   "language": "python",
   "name": "python3"
  },
  "language_info": {
   "codemirror_mode": {
    "name": "ipython",
    "version": 3
   },
   "file_extension": ".py",
   "mimetype": "text/x-python",
   "name": "python",
   "nbconvert_exporter": "python",
   "pygments_lexer": "ipython3",
   "version": "3.12.4"
  }
 },
 "nbformat": 4,
 "nbformat_minor": 5
}
