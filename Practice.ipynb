{
 "cells": [
  {
   "cell_type": "code",
   "execution_count": 7,
   "id": "98bca682-e30a-4fd3-975d-eb7901877b60",
   "metadata": {},
   "outputs": [
    {
     "name": "stdout",
     "output_type": "stream",
     "text": [
      "21\n"
     ]
    }
   ],
   "source": [
    "def calculate_love_score(name1, name2):\n",
    "    true,love=0,0\n",
    "    name=name1+name2\n",
    "    for i in name:\n",
    "        if(i.lower() in [\"t\",\"r\",\"u\",\"e\"]):\n",
    "            true+=1\n",
    "        if(i.lower() in [\"l\",\"o\",\"v\",\"e\"]):\n",
    "            love+=1\n",
    "    love_percentage = true*10 + love\n",
    "    print(love_percentage)\n",
    "    \n",
    "calculate_love_score(\"White\", \"Pink\")"
   ]
  },
  {
   "cell_type": "code",
   "execution_count": 11,
   "id": "77a7c690-d64f-4787-b9b4-43ecf00b9ee6",
   "metadata": {},
   "outputs": [
    {
     "name": "stdout",
     "output_type": "stream",
     "text": [
      "----encrypt------\n"
     ]
    },
    {
     "name": "stdin",
     "output_type": "stream",
     "text": [
      "Enter your encrypt:  Hello\n",
      "Enter Your shift number:  5\n"
     ]
    },
    {
     "name": "stdout",
     "output_type": "stream",
     "text": [
      "Encrypted text: Mjqqt\n",
      "----decrpyt------\n"
     ]
    },
    {
     "name": "stdin",
     "output_type": "stream",
     "text": [
      "Enter your encrypt:  Mjqqt\n",
      "Enter Your shift number:  5\n"
     ]
    },
    {
     "name": "stdout",
     "output_type": "stream",
     "text": [
      "Encrypted text: Hello\n"
     ]
    }
   ],
   "source": [
    "print(\"----encrypt------\")\n",
    "text = input(\"Enter your encrypt: \")\n",
    "number = int(input(\"Enter Your shift number: \"))\n",
    "\n",
    "encrypted_text = \"\"\n",
    "\n",
    "for char in text:\n",
    "    encrypted_text += chr(ord(char) + number)\n",
    "\n",
    "print(\"Encrypted text:\", encrypted_text)\n",
    "\n",
    "print(\"----decrpyt------\")\n",
    "text = input(\"Enter your encrypt: \")\n",
    "number = int(input(\"Enter Your shift number: \"))\n",
    "\n",
    "decrypted_text = \"\"\n",
    "\n",
    "for char in text:\n",
    "    decrypted_text += chr(ord(char) - number)\n",
    "\n",
    "print(\"Encrypted text:\", decrypted_text)\n"
   ]
  },
  {
   "cell_type": "code",
   "execution_count": 1,
   "id": "a4cd2551-db2a-454e-a838-b63317b5a768",
   "metadata": {},
   "outputs": [],
   "source": [
    "import turtle\n",
    "\n",
    "t = turtle.Turtle()\n",
    "turtle.clear() #tried turtle.reset() too\n",
    "for i in range(15):\n",
    "   t.fd(10)\n",
    "   t.penup()\n",
    "   t.fd(10)\n",
    "   t.pendown()\n",
    "turtle.exitonclick()\n"
   ]
  },
  {
   "cell_type": "code",
   "execution_count": null,
   "id": "c29aec3c-6a5a-4359-99ea-1812ac454424",
   "metadata": {},
   "outputs": [],
   "source": []
  }
 ],
 "metadata": {
  "kernelspec": {
   "display_name": "Python 3 (ipykernel)",
   "language": "python",
   "name": "python3"
  },
  "language_info": {
   "codemirror_mode": {
    "name": "ipython",
    "version": 3
   },
   "file_extension": ".py",
   "mimetype": "text/x-python",
   "name": "python",
   "nbconvert_exporter": "python",
   "pygments_lexer": "ipython3",
   "version": "3.12.4"
  }
 },
 "nbformat": 4,
 "nbformat_minor": 5
}
