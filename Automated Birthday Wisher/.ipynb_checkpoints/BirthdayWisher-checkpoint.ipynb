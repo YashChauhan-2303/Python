{
 "cells": [
  {
   "cell_type": "code",
   "execution_count": null,
   "id": "34e25709-3641-42c8-aead-db388e413318",
   "metadata": {},
   "outputs": [],
   "source": [
    "import smtplib\n",
    "import datetime as dt\n",
    "import pandas as pd\n",
    "\n",
    "today = dt.datetime.now()\n",
    "today_tuple = (today.month,today.day)\n",
    "\n",
    "data = pd.read_csv(\"birthdays.csv\")\n",
    "\n",
    "birthday_dict = {(data_row['month'],data_row['day']): data_row for(index,data_row) in data.iterrows()}\n",
    "\n",
    "my_email = \"your_email\"\n",
    "password = \"your_password\"\n",
    "\n",
    "if today_tuple in birthday_dict:\n",
    "    birthday_person = birthday_dict[today_tuple]\n",
    "    file_path = f\"letter.txt\"\n",
    "    with open(file_path) as letter_file:\n",
    "        contents = letter_file.read()\n",
    "        contents = contents.replace(\"[Name]\",birthday_person['name'])\n",
    "\n",
    "    connection = smtplib.SMTP (\"smtp.gmail.com\", 587)\n",
    "    connection.starttls()\n",
    "    # makes connection secure\n",
    "    connection.login(user = my_email, password=password)\n",
    "    connection.sendmail(from_addr=my_email,\n",
    "                        to_addrs=birthday_person['email'],\n",
    "                        msg=f\"Subject:Happy Birthday!\\n\\n{contents}\")\n",
    "    connection.close()"
   ]
  }
 ],
 "metadata": {
  "kernelspec": {
   "display_name": "Python 3 (ipykernel)",
   "language": "python",
   "name": "python3"
  },
  "language_info": {
   "codemirror_mode": {
    "name": "ipython",
    "version": 3
   },
   "file_extension": ".py",
   "mimetype": "text/x-python",
   "name": "python",
   "nbconvert_exporter": "python",
   "pygments_lexer": "ipython3",
   "version": "3.12.4"
  }
 },
 "nbformat": 4,
 "nbformat_minor": 5
}
