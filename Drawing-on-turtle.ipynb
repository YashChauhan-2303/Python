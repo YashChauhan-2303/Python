{
 "cells": [
  {
   "cell_type": "code",
   "execution_count": null,
   "id": "1e082595-9dcf-4c9a-afa0-d957898dd886",
   "metadata": {},
   "outputs": [],
   "source": [
    "from turtle import Turtle,Screen\n",
    "\n",
    "print(\"W - forward\\nS - Backward\\nA - Left\\nD - Right\\nC - Clear\")\n",
    "\n",
    "t = Turtle()\n",
    "screen = Screen()\n",
    "\n",
    "def move_forward():\n",
    "    t.forward(20)\n",
    "\n",
    "def move_backward():\n",
    "    t.backward(20)\n",
    "\n",
    "def move_left():\n",
    "    t.left(20)\n",
    "    move_forward()\n",
    "\n",
    "def move_right():\n",
    "    t.right(20)\n",
    "    move_forward()\n",
    "\n",
    "def clear():\n",
    "    t.clear()\n",
    "\n",
    "screen.listen()\n",
    "screen.onkey(key='w',fun=move_forward)\n",
    "screen.onkey(key='a',fun=move_left)\n",
    "screen.onkey(key='s',fun=move_backward)\n",
    "screen.onkey(key='d',fun=move_right)\n",
    "screen.onkey(key='c',fun=clear)\n",
    "screen.exitonclick()"
   ]
  }
 ],
 "metadata": {
  "kernelspec": {
   "display_name": "Python 3 (ipykernel)",
   "language": "python",
   "name": "python3"
  },
  "language_info": {
   "codemirror_mode": {
    "name": "ipython",
    "version": 3
   },
   "file_extension": ".py",
   "mimetype": "text/x-python",
   "name": "python",
   "nbconvert_exporter": "python",
   "pygments_lexer": "ipython3",
   "version": "3.12.4"
  }
 },
 "nbformat": 4,
 "nbformat_minor": 5
}
