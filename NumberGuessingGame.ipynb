{
 "cells": [
  {
   "cell_type": "code",
   "execution_count": 3,
   "id": "d2b7b26d-6ff9-46b3-b409-d7ef67b50e59",
   "metadata": {},
   "outputs": [
    {
     "name": "stdout",
     "output_type": "stream",
     "text": [
      "Welcome to Number Guessing Game: \n",
      "I am guessing between 1 to 100\n"
     ]
    },
    {
     "name": "stdin",
     "output_type": "stream",
     "text": [
      "Enter difficulty level easy/hard:  hard\n"
     ]
    },
    {
     "name": "stdout",
     "output_type": "stream",
     "text": [
      "You have 5 life left!!\n"
     ]
    },
    {
     "name": "stdin",
     "output_type": "stream",
     "text": [
      "Guess the number:  50\n"
     ]
    },
    {
     "name": "stdout",
     "output_type": "stream",
     "text": [
      "Too Low\n",
      "You have 4 life left!!\n"
     ]
    },
    {
     "name": "stdin",
     "output_type": "stream",
     "text": [
      "Guess the number:  76\n"
     ]
    },
    {
     "name": "stdout",
     "output_type": "stream",
     "text": [
      "Too High\n",
      "You have 3 life left!!\n"
     ]
    },
    {
     "name": "stdin",
     "output_type": "stream",
     "text": [
      "Guess the number:  60\n"
     ]
    },
    {
     "name": "stdout",
     "output_type": "stream",
     "text": [
      "Too Low\n",
      "You have 2 life left!!\n"
     ]
    },
    {
     "name": "stdin",
     "output_type": "stream",
     "text": [
      "Guess the number:  66\n"
     ]
    },
    {
     "name": "stdout",
     "output_type": "stream",
     "text": [
      "Too High\n",
      "You have 1 life left!!\n"
     ]
    },
    {
     "name": "stdin",
     "output_type": "stream",
     "text": [
      "Guess the number:  64\n"
     ]
    },
    {
     "name": "stdout",
     "output_type": "stream",
     "text": [
      "Too High\n",
      "Out of lives! The correct number was 61. Better luck next time!\n"
     ]
    }
   ],
   "source": [
    "import random\n",
    "randomNumber = random.randint(1,100)\n",
    "print(\"Welcome to Number Guessing Game: \")\n",
    "print(\"I am guessing between 1 to 100\")\n",
    "level=input(\"Enter difficulty level easy/hard: \")\n",
    "lives=0\n",
    "if(level.lower() == \"easy\"):\n",
    "    lives=10\n",
    "else:\n",
    "    lives=5\n",
    "for i in range(lives,0,-1):\n",
    "    print(f\"You have {i} life left!!\")\n",
    "    try:\n",
    "        a = int(input(\"Guess the number: \"))\n",
    "    except ValueError:\n",
    "        print(\"Invalid input! Please enter a number.\")\n",
    "        continue\n",
    "    if(a==randomNumber):\n",
    "        print(\"You guessed the right number!\")\n",
    "        break\n",
    "    if(a>randomNumber):\n",
    "        print(\"Too High\")\n",
    "    else:\n",
    "        print(\"Too Low\")\n",
    "else:\n",
    "    print(f\"Out of lives! The correct number was {randomNumber}. Better luck next time!\")"
   ]
  },
  {
   "cell_type": "code",
   "execution_count": null,
   "id": "f0518f6e-517d-48e6-a2be-01a7280997dc",
   "metadata": {},
   "outputs": [],
   "source": []
  }
 ],
 "metadata": {
  "kernelspec": {
   "display_name": "Python 3 (ipykernel)",
   "language": "python",
   "name": "python3"
  },
  "language_info": {
   "codemirror_mode": {
    "name": "ipython",
    "version": 3
   },
   "file_extension": ".py",
   "mimetype": "text/x-python",
   "name": "python",
   "nbconvert_exporter": "python",
   "pygments_lexer": "ipython3",
   "version": "3.12.4"
  }
 },
 "nbformat": 4,
 "nbformat_minor": 5
}
